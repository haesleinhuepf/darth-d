{
 "cells": [
  {
   "cell_type": "code",
   "execution_count": 1,
   "id": "f8200456-5c7c-4ed8-b413-383414c99ef6",
   "metadata": {},
   "outputs": [],
   "source": [
    "import bia_bob"
   ]
  },
  {
   "cell_type": "code",
   "execution_count": 2,
   "id": "f0e3e75b-1e1d-4c40-9537-f8d4c878fe2a",
   "metadata": {},
   "outputs": [
    {
     "data": {
      "text/markdown": [],
      "text/plain": [
       "<IPython.core.display.Markdown object>"
      ]
     },
     "metadata": {},
     "output_type": "display_data"
    }
   ],
   "source": [
    "%bob load blobs.tif and show it"
   ]
  },
  {
   "cell_type": "code",
   "execution_count": null,
   "id": "432e47f6-a43a-4eec-8a5f-24961c6fb512",
   "metadata": {},
   "outputs": [],
   "source": [
    "from skimage.io import imread\n",
    "import stackview\n",
    "\n",
    "image = imread('blobs.tif')\n",
    "stackview.insight(image)"
   ]
  },
  {
   "cell_type": "code",
   "execution_count": null,
   "id": "bcee27c1-9817-4ca0-a17c-0523a36f280a",
   "metadata": {},
   "outputs": [],
   "source": []
  }
 ],
 "metadata": {
  "kernelspec": {
   "display_name": "Python 3 (ipykernel)",
   "language": "python",
   "name": "python3"
  },
  "language_info": {
   "codemirror_mode": {
    "name": "ipython",
    "version": 3
   },
   "file_extension": ".py",
   "mimetype": "text/x-python",
   "name": "python",
   "nbconvert_exporter": "python",
   "pygments_lexer": "ipython3",
   "version": "3.9.16"
  }
 },
 "nbformat": 4,
 "nbformat_minor": 5
}
